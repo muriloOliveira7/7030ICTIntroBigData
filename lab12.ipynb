{
 "cells": [
  {
   "cell_type": "code",
   "execution_count": 51,
   "metadata": {},
   "outputs": [
    {
     "data": {
      "text/plain": "   Years Experience Employed?  Previous employers Level of Education  \\\n0                10         Y                   4                 BS   \n1                 0         N                   0                 BS   \n2                 7         N                   6                 BS   \n3                 2         Y                   1                 MS   \n4                20         N                   2                PhD   \n\n  Top-tier school Interned Hired  \n0               N        N     Y  \n1               Y        Y     Y  \n2               N        N     N  \n3               Y        N     Y  \n4               Y        N     N  ",
      "text/html": "<div>\n<style scoped>\n    .dataframe tbody tr th:only-of-type {\n        vertical-align: middle;\n    }\n\n    .dataframe tbody tr th {\n        vertical-align: top;\n    }\n\n    .dataframe thead th {\n        text-align: right;\n    }\n</style>\n<table border=\"1\" class=\"dataframe\">\n  <thead>\n    <tr style=\"text-align: right;\">\n      <th></th>\n      <th>Years Experience</th>\n      <th>Employed?</th>\n      <th>Previous employers</th>\n      <th>Level of Education</th>\n      <th>Top-tier school</th>\n      <th>Interned</th>\n      <th>Hired</th>\n    </tr>\n  </thead>\n  <tbody>\n    <tr>\n      <th>0</th>\n      <td>10</td>\n      <td>Y</td>\n      <td>4</td>\n      <td>BS</td>\n      <td>N</td>\n      <td>N</td>\n      <td>Y</td>\n    </tr>\n    <tr>\n      <th>1</th>\n      <td>0</td>\n      <td>N</td>\n      <td>0</td>\n      <td>BS</td>\n      <td>Y</td>\n      <td>Y</td>\n      <td>Y</td>\n    </tr>\n    <tr>\n      <th>2</th>\n      <td>7</td>\n      <td>N</td>\n      <td>6</td>\n      <td>BS</td>\n      <td>N</td>\n      <td>N</td>\n      <td>N</td>\n    </tr>\n    <tr>\n      <th>3</th>\n      <td>2</td>\n      <td>Y</td>\n      <td>1</td>\n      <td>MS</td>\n      <td>Y</td>\n      <td>N</td>\n      <td>Y</td>\n    </tr>\n    <tr>\n      <th>4</th>\n      <td>20</td>\n      <td>N</td>\n      <td>2</td>\n      <td>PhD</td>\n      <td>Y</td>\n      <td>N</td>\n      <td>N</td>\n    </tr>\n  </tbody>\n</table>\n</div>"
     },
     "execution_count": 51,
     "metadata": {},
     "output_type": "execute_result"
    }
   ],
   "source": [
    "import pandas as pd\n",
    "import numpy as np\n",
    "\n",
    "df = pd.read_csv(\"PastHires.csv\")\n",
    "df.head()\n",
    "# Loading the file and showing the first rows of it"
   ]
  },
  {
   "cell_type": "code",
   "execution_count": 52,
   "outputs": [
    {
     "data": {
      "text/plain": "   Years Experience Employed?  Previous employers Level of Education  \\\n0                10         Y                   4                 BS   \n1                 0         N                   0                 BS   \n2                 7         N                   6                 BS   \n3                 2         Y                   1                 MS   \n4                20         N                   2                PhD   \n5                 0         N                   0                PhD   \n6                 5         Y                   2                 MS   \n7                 3         N                   1                 BS   \n8                15         Y                   5                 BS   \n9                 0         N                   0                 BS   \n\n  Top-tier school Interned Hired  \n0               N        N     Y  \n1               Y        Y     Y  \n2               N        N     N  \n3               Y        N     Y  \n4               Y        N     N  \n5               Y        Y     Y  \n6               N        Y     Y  \n7               N        Y     Y  \n8               N        N     Y  \n9               N        N     N  ",
      "text/html": "<div>\n<style scoped>\n    .dataframe tbody tr th:only-of-type {\n        vertical-align: middle;\n    }\n\n    .dataframe tbody tr th {\n        vertical-align: top;\n    }\n\n    .dataframe thead th {\n        text-align: right;\n    }\n</style>\n<table border=\"1\" class=\"dataframe\">\n  <thead>\n    <tr style=\"text-align: right;\">\n      <th></th>\n      <th>Years Experience</th>\n      <th>Employed?</th>\n      <th>Previous employers</th>\n      <th>Level of Education</th>\n      <th>Top-tier school</th>\n      <th>Interned</th>\n      <th>Hired</th>\n    </tr>\n  </thead>\n  <tbody>\n    <tr>\n      <th>0</th>\n      <td>10</td>\n      <td>Y</td>\n      <td>4</td>\n      <td>BS</td>\n      <td>N</td>\n      <td>N</td>\n      <td>Y</td>\n    </tr>\n    <tr>\n      <th>1</th>\n      <td>0</td>\n      <td>N</td>\n      <td>0</td>\n      <td>BS</td>\n      <td>Y</td>\n      <td>Y</td>\n      <td>Y</td>\n    </tr>\n    <tr>\n      <th>2</th>\n      <td>7</td>\n      <td>N</td>\n      <td>6</td>\n      <td>BS</td>\n      <td>N</td>\n      <td>N</td>\n      <td>N</td>\n    </tr>\n    <tr>\n      <th>3</th>\n      <td>2</td>\n      <td>Y</td>\n      <td>1</td>\n      <td>MS</td>\n      <td>Y</td>\n      <td>N</td>\n      <td>Y</td>\n    </tr>\n    <tr>\n      <th>4</th>\n      <td>20</td>\n      <td>N</td>\n      <td>2</td>\n      <td>PhD</td>\n      <td>Y</td>\n      <td>N</td>\n      <td>N</td>\n    </tr>\n    <tr>\n      <th>5</th>\n      <td>0</td>\n      <td>N</td>\n      <td>0</td>\n      <td>PhD</td>\n      <td>Y</td>\n      <td>Y</td>\n      <td>Y</td>\n    </tr>\n    <tr>\n      <th>6</th>\n      <td>5</td>\n      <td>Y</td>\n      <td>2</td>\n      <td>MS</td>\n      <td>N</td>\n      <td>Y</td>\n      <td>Y</td>\n    </tr>\n    <tr>\n      <th>7</th>\n      <td>3</td>\n      <td>N</td>\n      <td>1</td>\n      <td>BS</td>\n      <td>N</td>\n      <td>Y</td>\n      <td>Y</td>\n    </tr>\n    <tr>\n      <th>8</th>\n      <td>15</td>\n      <td>Y</td>\n      <td>5</td>\n      <td>BS</td>\n      <td>N</td>\n      <td>N</td>\n      <td>Y</td>\n    </tr>\n    <tr>\n      <th>9</th>\n      <td>0</td>\n      <td>N</td>\n      <td>0</td>\n      <td>BS</td>\n      <td>N</td>\n      <td>N</td>\n      <td>N</td>\n    </tr>\n  </tbody>\n</table>\n</div>"
     },
     "execution_count": 52,
     "metadata": {},
     "output_type": "execute_result"
    }
   ],
   "source": [
    "df.head(10)\n",
    "# Shows the first 10 rows of the DataFrame"
   ],
   "metadata": {
    "collapsed": false,
    "pycharm": {
     "name": "#%%\n"
    }
   }
  },
  {
   "cell_type": "code",
   "execution_count": 53,
   "outputs": [
    {
     "data": {
      "text/plain": "    Years Experience Employed?  Previous employers Level of Education  \\\n9                  0         N                   0                 BS   \n10                 1         N                   1                PhD   \n11                 4         Y                   1                 BS   \n12                 0         N                   0                PhD   \n\n   Top-tier school Interned Hired  \n9                N        N     N  \n10               Y        N     N  \n11               N        Y     Y  \n12               Y        N     Y  ",
      "text/html": "<div>\n<style scoped>\n    .dataframe tbody tr th:only-of-type {\n        vertical-align: middle;\n    }\n\n    .dataframe tbody tr th {\n        vertical-align: top;\n    }\n\n    .dataframe thead th {\n        text-align: right;\n    }\n</style>\n<table border=\"1\" class=\"dataframe\">\n  <thead>\n    <tr style=\"text-align: right;\">\n      <th></th>\n      <th>Years Experience</th>\n      <th>Employed?</th>\n      <th>Previous employers</th>\n      <th>Level of Education</th>\n      <th>Top-tier school</th>\n      <th>Interned</th>\n      <th>Hired</th>\n    </tr>\n  </thead>\n  <tbody>\n    <tr>\n      <th>9</th>\n      <td>0</td>\n      <td>N</td>\n      <td>0</td>\n      <td>BS</td>\n      <td>N</td>\n      <td>N</td>\n      <td>N</td>\n    </tr>\n    <tr>\n      <th>10</th>\n      <td>1</td>\n      <td>N</td>\n      <td>1</td>\n      <td>PhD</td>\n      <td>Y</td>\n      <td>N</td>\n      <td>N</td>\n    </tr>\n    <tr>\n      <th>11</th>\n      <td>4</td>\n      <td>Y</td>\n      <td>1</td>\n      <td>BS</td>\n      <td>N</td>\n      <td>Y</td>\n      <td>Y</td>\n    </tr>\n    <tr>\n      <th>12</th>\n      <td>0</td>\n      <td>N</td>\n      <td>0</td>\n      <td>PhD</td>\n      <td>Y</td>\n      <td>N</td>\n      <td>Y</td>\n    </tr>\n  </tbody>\n</table>\n</div>"
     },
     "execution_count": 53,
     "metadata": {},
     "output_type": "execute_result"
    }
   ],
   "source": [
    "df.tail(4)\n",
    "# Shows the end of the DataFrame"
   ],
   "metadata": {
    "collapsed": false,
    "pycharm": {
     "name": "#%%\n"
    }
   }
  },
  {
   "cell_type": "code",
   "execution_count": 54,
   "outputs": [
    {
     "data": {
      "text/plain": "(13, 7)"
     },
     "execution_count": 54,
     "metadata": {},
     "output_type": "execute_result"
    }
   ],
   "source": [
    "df.shape\n",
    "# Show (columns, rows)"
   ],
   "metadata": {
    "collapsed": false,
    "pycharm": {
     "name": "#%%\n"
    }
   }
  },
  {
   "cell_type": "code",
   "execution_count": 55,
   "outputs": [
    {
     "data": {
      "text/plain": "91"
     },
     "execution_count": 55,
     "metadata": {},
     "output_type": "execute_result"
    }
   ],
   "source": [
    "df.size\n",
    "# rows * columns of the DataFrame"
   ],
   "metadata": {
    "collapsed": false,
    "pycharm": {
     "name": "#%%\n"
    }
   }
  },
  {
   "cell_type": "code",
   "execution_count": 56,
   "outputs": [
    {
     "data": {
      "text/plain": "13"
     },
     "execution_count": 56,
     "metadata": {},
     "output_type": "execute_result"
    }
   ],
   "source": [
    "len(df)\n",
    "# Number of rows in a DataFrame"
   ],
   "metadata": {
    "collapsed": false,
    "pycharm": {
     "name": "#%%\n"
    }
   }
  },
  {
   "cell_type": "code",
   "execution_count": 57,
   "outputs": [
    {
     "data": {
      "text/plain": "Index(['Years Experience', 'Employed?', 'Previous employers',\n       'Level of Education', 'Top-tier school', 'Interned', 'Hired'],\n      dtype='object')"
     },
     "execution_count": 57,
     "metadata": {},
     "output_type": "execute_result"
    }
   ],
   "source": [
    "df.columns\n",
    "# Shows the name of the columns"
   ],
   "metadata": {
    "collapsed": false,
    "pycharm": {
     "name": "#%%\n"
    }
   }
  },
  {
   "cell_type": "code",
   "execution_count": 58,
   "outputs": [
    {
     "data": {
      "text/plain": "0     Y\n1     Y\n2     N\n3     Y\n4     N\n5     Y\n6     Y\n7     Y\n8     Y\n9     N\n10    N\n11    Y\n12    Y\nName: Hired, dtype: object"
     },
     "execution_count": 58,
     "metadata": {},
     "output_type": "execute_result"
    }
   ],
   "source": [
    "df['Hired']\n",
    "# Shows the selected column of the DataFrame, which is a \"Series\" in Pandas"
   ],
   "metadata": {
    "collapsed": false,
    "pycharm": {
     "name": "#%%\n"
    }
   }
  },
  {
   "cell_type": "code",
   "execution_count": 59,
   "outputs": [
    {
     "data": {
      "text/plain": "0    Y\n1    Y\n2    N\n3    Y\n4    N\nName: Hired, dtype: object"
     },
     "execution_count": 59,
     "metadata": {},
     "output_type": "execute_result"
    }
   ],
   "source": [
    "df['Hired'][:5]\n",
    "# Shows a range of rows"
   ],
   "metadata": {
    "collapsed": false,
    "pycharm": {
     "name": "#%%\n"
    }
   }
  },
  {
   "cell_type": "code",
   "execution_count": 60,
   "outputs": [
    {
     "data": {
      "text/plain": "'Y'"
     },
     "execution_count": 60,
     "metadata": {},
     "output_type": "execute_result"
    }
   ],
   "source": [
    "df['Hired'][5]\n",
    "# Shows a specific row"
   ],
   "metadata": {
    "collapsed": false,
    "pycharm": {
     "name": "#%%\n"
    }
   }
  },
  {
   "cell_type": "code",
   "execution_count": 60,
   "outputs": [],
   "source": [],
   "metadata": {
    "collapsed": false,
    "pycharm": {
     "name": "#%%"
    }
   }
  },
  {
   "cell_type": "code",
   "execution_count": null,
   "metadata": {},
   "outputs": [],
   "source": []
  }
 ],
 "metadata": {
  "kernelspec": {
   "display_name": "Python 3",
   "language": "python",
   "name": "python3"
  },
  "language_info": {
   "codemirror_mode": {
    "name": "ipython",
    "version": 3
   },
   "file_extension": ".py",
   "mimetype": "text/x-python",
   "name": "python",
   "nbconvert_exporter": "python",
   "pygments_lexer": "ipython3",
   "version": "3.8.3"
  }
 },
 "nbformat": 4,
 "nbformat_minor": 1
}